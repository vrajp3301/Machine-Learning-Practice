{
 "cells": [
  {
   "cell_type": "markdown",
   "id": "81af68c1",
   "metadata": {},
   "source": [
    "# Medical Expenses Predictor for Insurance Company"
   ]
  },
  {
   "cell_type": "code",
   "execution_count": 1,
   "id": "c2fe4199",
   "metadata": {},
   "outputs": [],
   "source": [
    "medical_dataset_url = 'https://raw.githubusercontent.com/JovianML/opendatasets/master/data/medical-charges.csv'"
   ]
  },
  {
   "cell_type": "code",
   "execution_count": 2,
   "id": "98e076d2",
   "metadata": {},
   "outputs": [],
   "source": [
    "from urllib.request import urlretrieve"
   ]
  },
  {
   "cell_type": "code",
   "execution_count": 3,
   "id": "ff867f87",
   "metadata": {},
   "outputs": [],
   "source": [
    "urlretrieve(medical_dataset_url,'medical.csv')"
   ]
  },
  {
   "cell_type": "code",
   "execution_count": 4,
   "id": "2af48a36",
   "metadata": {},
   "outputs": [],
   "source": [
    "import pandas as pd"
   ]
  },
  {
   "cell_type": "code",
   "execution_count": 5,
   "id": "514f4fb5",
   "metadata": {},
   "outputs": [],
   "source": [
    "medical_df = pd.read_csv('medical.csv')"
   ]
  },
  {
   "cell_type": "code",
   "execution_count": 6,
   "id": "b67b7f16",
   "metadata": {},
   "outputs": [],
   "source": [
    "medical_df"
   ]
  },
  {
   "cell_type": "markdown",
   "id": "10717971",
   "metadata": {},
   "source": [
    "The dataset contains 1338 rows and 7 columns. Each row of the dataset contains information about one customer.\n",
    "\n",
    "Our objective is to find a way to estimate the value in the \"charges\" column using the values in the other columns. If we can do so for the historical data, then we should able to estimate charges for new customers too, simply by asking for information like their age, sex, BMI, no. of children, smoking habits and region.\n",
    "\n",
    "Let's check the data type for each column."
   ]
  },
  {
   "cell_type": "code",
   "execution_count": 7,
   "id": "8662eee4",
   "metadata": {},
   "outputs": [],
   "source": [
    "medical_df.info()"
   ]
  },
  {
   "cell_type": "code",
   "execution_count": 8,
   "id": "baef0c2b",
   "metadata": {},
   "outputs": [],
   "source": [
    "medical_df.describe()"
   ]
  },
  {
   "cell_type": "markdown",
   "id": "24b9a58a",
   "metadata": {},
   "source": [
    "## EDA and Visualization"
   ]
  },
  {
   "cell_type": "code",
   "execution_count": 9,
   "id": "603d5cf4",
   "metadata": {},
   "outputs": [],
   "source": [
    "!pip install plotly matplotlib seaborn --quiet"
   ]
  },
  {
   "cell_type": "code",
   "execution_count": 10,
   "id": "410917ba",
   "metadata": {},
   "outputs": [],
   "source": [
    "import plotly.express as px\n",
    "import matplotlib\n",
    "import matplotlib.pyplot as plt\n",
    "import seaborn as sns\n",
    "%matplotlib inline"
   ]
  },
  {
   "cell_type": "code",
   "execution_count": 11,
   "id": "0252f63f",
   "metadata": {},
   "outputs": [],
   "source": [
    "sns.set_style('darkgrid')\n",
    "matplotlib.rcParams['font.size'] = 14\n",
    "matplotlib.rcParams['figure.figsize'] = (10,6)\n",
    "matplotlib.rcParams['figure.facecolor'] = '#000000'"
   ]
  },
  {
   "cell_type": "markdown",
   "id": "5aa0d1c6",
   "metadata": {},
   "source": [
    "### Age"
   ]
  },
  {
   "cell_type": "code",
   "execution_count": 12,
   "id": "415e85c7",
   "metadata": {},
   "outputs": [],
   "source": [
    "fig = px.histogram(medical_df,x = 'age',\n",
    "                  marginal='box',\n",
    "                  nbins=47,\n",
    "                  title='Distribution of Age')\n",
    "fig.update_layout(bargap=0.1)\n",
    "fig.show()"
   ]
  },
  {
   "cell_type": "markdown",
   "id": "f21eddfe",
   "metadata": {},
   "source": [
    "### Body Mass Index"
   ]
  },
  {
   "cell_type": "code",
   "execution_count": 13,
   "id": "4b72700e",
   "metadata": {},
   "outputs": [],
   "source": [
    "fig = px.histogram(medical_df,x = 'bmi',\n",
    "                  marginal='box',\n",
    "                  color_discrete_sequence=['red'], \n",
    "                  title='Distribution of BMI')\n",
    "fig.update_layout(bargap=0.1)\n",
    "fig.show()"
   ]
  },
  {
   "cell_type": "markdown",
   "id": "3600ac22",
   "metadata": {},
   "source": [
    "### Charges"
   ]
  },
  {
   "cell_type": "code",
   "execution_count": 14,
   "id": "75751778",
   "metadata": {},
   "outputs": [],
   "source": [
    "fig = px.histogram(medical_df,x = 'charges',\n",
    "                  marginal='box',\n",
    "                   color='smoker',\n",
    "                   color_discrete_sequence=['green','grey'],\n",
    "                  title='Annual Medical Charges')\n",
    "fig.update_layout(bargap=0.1)\n",
    "fig.show()"
   ]
  },
  {
   "cell_type": "markdown",
   "id": "047794dc",
   "metadata": {},
   "source": [
    "### Sex"
   ]
  },
  {
   "cell_type": "code",
   "execution_count": 15,
   "id": "aa02a1de",
   "metadata": {},
   "outputs": [],
   "source": [
    "fig = px.histogram(medical_df,x = 'sex',\n",
    "                  marginal='box',\n",
    "                   color='smoker',\n",
    "                   color_discrete_sequence=['purple','grey'],\n",
    "                  title='Annual Medical Charges')\n",
    "fig.update_layout(bargap=0.1)\n",
    "fig.show()"
   ]
  },
  {
   "cell_type": "markdown",
   "id": "b659ee3e",
   "metadata": {},
   "source": [
    "### Region"
   ]
  },
  {
   "cell_type": "code",
   "execution_count": 16,
   "id": "031e7e91",
   "metadata": {},
   "outputs": [],
   "source": [
    "fig = px.histogram(medical_df,x = 'region',\n",
    "                  marginal='box',\n",
    "                   color='smoker',\n",
    "                   color_discrete_sequence=['green','grey'],\n",
    "                  title='Annual Medical Charges')\n",
    "fig.update_layout(bargap=0.1)\n",
    "fig.show()"
   ]
  },
  {
   "cell_type": "markdown",
   "id": "76e17f1d",
   "metadata": {},
   "source": [
    "### Smoker"
   ]
  },
  {
   "cell_type": "code",
   "execution_count": 17,
   "id": "a2131ed0",
   "metadata": {},
   "outputs": [],
   "source": [
    "px.histogram(medical_df,x='smoker',color='sex',title='Smoker')"
   ]
  },
  {
   "cell_type": "markdown",
   "id": "0f383e9a",
   "metadata": {},
   "source": [
    "### Relation b/w Age and Charges"
   ]
  },
  {
   "cell_type": "code",
   "execution_count": 18,
   "id": "857cf59a",
   "metadata": {},
   "outputs": [],
   "source": [
    "fig = px.scatter(medical_df,x='age',\n",
    "                y='charges',\n",
    "                color='smoker',\n",
    "                opacity=0.8,\n",
    "                hover_data=['sex'],title = 'Age vs Charges')\n",
    "fig.update_traces(marker_size=5)\n",
    "fig.show()"
   ]
  },
  {
   "cell_type": "markdown",
   "id": "dc1d3c53",
   "metadata": {},
   "source": [
    "### Relation b/w BMI and Charges"
   ]
  },
  {
   "cell_type": "code",
   "execution_count": 19,
   "id": "5767d9cd",
   "metadata": {},
   "outputs": [],
   "source": [
    "fig = px.scatter(medical_df,x='bmi',\n",
    "                y='charges',\n",
    "                color='smoker',\n",
    "                opacity=0.8,\n",
    "                hover_data=['sex'],title = 'BMI vs Charges')\n",
    "fig.update_traces(marker_size=5)\n",
    "fig.show()"
   ]
  },
  {
   "cell_type": "markdown",
   "id": "871aa786",
   "metadata": {},
   "source": [
    "### Correlation"
   ]
  },
  {
   "cell_type": "code",
   "execution_count": 20,
   "id": "9153eccf",
   "metadata": {},
   "outputs": [],
   "source": [
    "medical_df.charges.corr(medical_df.age)"
   ]
  },
  {
   "cell_type": "code",
   "execution_count": 21,
   "id": "17886b26",
   "metadata": {},
   "outputs": [],
   "source": [
    "medical_df.charges.corr(medical_df.bmi)"
   ]
  },
  {
   "cell_type": "code",
   "execution_count": 22,
   "id": "24377f6d",
   "metadata": {},
   "outputs": [],
   "source": [
    "smoker_values = {'no':0 , 'yes':1}\n",
    "smoker_numeric = medical_df.smoker.map(smoker_values)\n",
    "medical_df.charges.corr(smoker_numeric)"
   ]
  },
  {
   "cell_type": "markdown",
   "id": "e26c5dad",
   "metadata": {},
   "source": [
    "### Heatmap for the Correlation"
   ]
  },
  {
   "cell_type": "code",
   "execution_count": 23,
   "id": "9fae0b7d",
   "metadata": {},
   "outputs": [],
   "source": [
    "sns.heatmap(medical_df.corr(),cmap='Reds',annot=True)\n",
    "plt.title('Correlation Matrix');"
   ]
  },
  {
   "cell_type": "markdown",
   "id": "48b7ca71",
   "metadata": {},
   "source": [
    "### Linear Regression using a Single Feature"
   ]
  },
  {
   "cell_type": "code",
   "execution_count": 24,
   "id": "01fbfba4",
   "metadata": {},
   "outputs": [],
   "source": [
    "non_smoker_df = medical_df[medical_df.smoker == 'no']"
   ]
  },
  {
   "cell_type": "code",
   "execution_count": 25,
   "id": "28a27b0f",
   "metadata": {},
   "outputs": [],
   "source": [
    "plt.title('Age vs Charges')\n",
    "sns.scatterplot(data=non_smoker_df,x='age',y='charges',alpha=0.7,s=15)"
   ]
  },
  {
   "cell_type": "markdown",
   "id": "e328b22c",
   "metadata": {},
   "source": [
    "### Model"
   ]
  },
  {
   "cell_type": "markdown",
   "id": "e1aafebe",
   "metadata": {},
   "source": [
    "charges = w * age + b"
   ]
  },
  {
   "cell_type": "code",
   "execution_count": 26,
   "id": "27d78652",
   "metadata": {},
   "outputs": [],
   "source": [
    "def estimate_charges(age,w,b):\n",
    "    return w * age + b "
   ]
  },
  {
   "cell_type": "code",
   "execution_count": 27,
   "id": "09ed8a78",
   "metadata": {},
   "outputs": [],
   "source": [
    "w = 50\n",
    "b = 100\n",
    "ages = non_smoker_df.age\n",
    "estimated_charges = estimate_charges(ages,w,b)"
   ]
  },
  {
   "cell_type": "code",
   "execution_count": 28,
   "id": "6794bf87",
   "metadata": {},
   "outputs": [],
   "source": [
    "plt.plot(ages,estimated_charges,'r-o');\n",
    "plt.xlabel('Age');\n",
    "plt.ylabel('Estimated Charges');"
   ]
  },
  {
   "cell_type": "code",
   "execution_count": 29,
   "id": "5d21a4af",
   "metadata": {},
   "outputs": [],
   "source": [
    "target = non_smoker_df.charges\n",
    "\n",
    "plt.plot(ages,estimated_charges,'r',alpha=0.9);\n",
    "plt.scatter(ages,target,s=0,alpha=0.8);\n",
    "plt.xlabel('Age');\n",
    "plt.ylabel('Charges')\n",
    "plt.legend(['Estimate','Actual']);"
   ]
  },
  {
   "cell_type": "code",
   "execution_count": 30,
   "id": "69169dd3",
   "metadata": {},
   "outputs": [],
   "source": [
    "def try_parameters(w,b):\n",
    "    ages = non_smoker_df.age\n",
    "    target = non_smoker_df.charges\n",
    "    \n",
    "    estimated_charges = estimate_charges(ages,w,b)\n",
    "    \n",
    "    plt.plot(ages,estimated_charges,'r',alpha=0.9);\n",
    "    plt.scatter(ages,target,s=8,alpha=0.8);\n",
    "    plt.xlabel('Age');\n",
    "    plt.ylabel('Charges')\n",
    "    plt.legend(['Estimate','Actual']);"
   ]
  },
  {
   "cell_type": "code",
   "execution_count": 31,
   "id": "a5ba12a0",
   "metadata": {},
   "outputs": [],
   "source": [
    "try_parameters(60,200)"
   ]
  },
  {
   "cell_type": "code",
   "execution_count": 32,
   "id": "bbd62712",
   "metadata": {},
   "outputs": [],
   "source": [
    "try_parameters(300,-4500)"
   ]
  },
  {
   "cell_type": "code",
   "execution_count": 33,
   "id": "4ae3fd9b",
   "metadata": {},
   "outputs": [],
   "source": [
    "predictions = estimated_charges\n",
    "predictions"
   ]
  },
  {
   "cell_type": "code",
   "execution_count": 34,
   "id": "cd8e66c8",
   "metadata": {},
   "outputs": [],
   "source": [
    "!pip install numpy --quiet"
   ]
  },
  {
   "cell_type": "code",
   "execution_count": 35,
   "id": "25e0b3a1",
   "metadata": {},
   "outputs": [],
   "source": [
    "import numpy as np"
   ]
  },
  {
   "cell_type": "code",
   "execution_count": 36,
   "id": "8ac88c67",
   "metadata": {},
   "outputs": [],
   "source": [
    "def rmse(targets, predictions):\n",
    "    return np.sqrt(np.mean(np.square(targets - predictions)))"
   ]
  },
  {
   "cell_type": "code",
   "execution_count": 37,
   "id": "7a5b4647",
   "metadata": {},
   "outputs": [],
   "source": [
    "w = 50\n",
    "b= 100\n",
    "try_parameters(w,b)"
   ]
  },
  {
   "cell_type": "code",
   "execution_count": 38,
   "id": "7ad712a7",
   "metadata": {},
   "outputs": [],
   "source": [
    "targets = non_smoker_df['charges']\n",
    "predicted = estimate_charges(non_smoker_df.age,w,b)"
   ]
  },
  {
   "cell_type": "code",
   "execution_count": 39,
   "id": "aaa8b0bc",
   "metadata": {},
   "outputs": [],
   "source": [
    "rmse(targets,predicted)"
   ]
  },
  {
   "cell_type": "code",
   "execution_count": 40,
   "id": "46ceec5e",
   "metadata": {},
   "outputs": [],
   "source": [
    "def try_parameters(w,b):\n",
    "    ages = non_smoker_df.age\n",
    "    target = non_smoker_df.charges\n",
    "    predictions = estimate_charges(ages,w,b)\n",
    "    \n",
    "    plt.plot(ages,predictions,'r',alpha=0.9)\n",
    "    plt.scatter(ages,target,s=8,alpha=0.8)\n",
    "    plt.xlabel('Age');\n",
    "    plt.ylabel('Charges')\n",
    "    plt.legend(['Prediction','Actual']);\n",
    "    \n",
    "    loss = rmse(target,predictions)\n",
    "    print(\"RMSE Loss:\",loss)"
   ]
  },
  {
   "cell_type": "code",
   "execution_count": 41,
   "id": "1766bac4",
   "metadata": {},
   "outputs": [],
   "source": [
    "try_parameters(267.248,-2901.4200)"
   ]
  },
  {
   "cell_type": "code",
   "execution_count": 42,
   "id": "d51d5119",
   "metadata": {},
   "outputs": [],
   "source": [
    "!pip install scikit-learn --quiet"
   ]
  },
  {
   "cell_type": "code",
   "execution_count": 43,
   "id": "fc11a9d5",
   "metadata": {},
   "outputs": [],
   "source": [
    " from sklearn.linear_model import LinearRegression\n"
   ]
  },
  {
   "cell_type": "code",
   "execution_count": 44,
   "id": "be63731e",
   "metadata": {},
   "outputs": [],
   "source": [
    "model = LinearRegression()"
   ]
  },
  {
   "cell_type": "code",
   "execution_count": 45,
   "id": "40beef64",
   "metadata": {},
   "outputs": [],
   "source": [
    "inputs = non_smoker_df[['age']]\n",
    "targets = non_smoker_df.charges\n",
    "print('inputs.shape:',inputs.shape)\n",
    "print('targets.shape',targets.shape)"
   ]
  },
  {
   "cell_type": "code",
   "execution_count": 46,
   "id": "0a0c35f0",
   "metadata": {},
   "outputs": [],
   "source": [
    "model.fit(inputs,targets)"
   ]
  },
  {
   "cell_type": "code",
   "execution_count": 47,
   "id": "1f17121a",
   "metadata": {},
   "outputs": [],
   "source": [
    "model.predict(np.array([[23],[37],[61]]))"
   ]
  },
  {
   "cell_type": "code",
   "execution_count": 48,
   "id": "4d551fbb",
   "metadata": {},
   "outputs": [],
   "source": [
    "model.coef_"
   ]
  },
  {
   "cell_type": "code",
   "execution_count": 49,
   "id": "3a22151b",
   "metadata": {},
   "outputs": [],
   "source": [
    "model.intercept_"
   ]
  },
  {
   "cell_type": "code",
   "execution_count": 50,
   "id": "53483225",
   "metadata": {},
   "outputs": [],
   "source": [
    "smoker_codes = {'no': 0, 'yes': 1}\n",
    "medical_df['smoker_code'] = medical_df.smoker.map(smoker_codes)\n",
    "sex_codes = {'female': 0, 'male': 1}\n",
    "medical_df['sex_code'] = medical_df.sex.map(sex_codes)"
   ]
  },
  {
   "cell_type": "code",
   "execution_count": 51,
   "id": "6f627339",
   "metadata": {},
   "outputs": [],
   "source": [
    "from sklearn import preprocessing\n",
    "enc = preprocessing.OneHotEncoder()\n",
    "enc.fit(medical_df[['region']])\n",
    "enc.categories_"
   ]
  },
  {
   "cell_type": "code",
   "execution_count": 52,
   "id": "4a626146",
   "metadata": {},
   "outputs": [],
   "source": [
    "one_hot = enc.transform(medical_df[['region']]).toarray()\n",
    "one_hot"
   ]
  },
  {
   "cell_type": "code",
   "execution_count": 53,
   "id": "76f6d3eb",
   "metadata": {},
   "outputs": [],
   "source": [
    "medical_df[['northeast', 'northwest', 'southeast', 'southwest']] = one_hot"
   ]
  },
  {
   "cell_type": "code",
   "execution_count": 54,
   "id": "113627bc",
   "metadata": {},
   "outputs": [],
   "source": [
    "medical_df"
   ]
  },
  {
   "cell_type": "code",
   "execution_count": 55,
   "id": "afbe012f",
   "metadata": {},
   "outputs": [],
   "source": [
    "input_cols = ['age', 'bmi', 'children', 'smoker_code', 'sex_code', 'northeast', 'northwest', 'southeast', 'southwest']\n",
    "inputs, targets = medical_df[input_cols], medical_df['charges']\n",
    "\n",
    "model = LinearRegression().fit(inputs, targets)\n",
    "\n",
    "predictions = model.predict(inputs)\n",
    "\n",
    "loss = rmse(targets, predictions)\n",
    "print('Loss:', loss)"
   ]
  },
  {
   "cell_type": "code",
   "execution_count": 56,
   "id": "7e72824a",
   "metadata": {},
   "outputs": [],
   "source": [
    "from sklearn.preprocessing import StandardScaler"
   ]
  },
  {
   "cell_type": "code",
   "execution_count": 57,
   "id": "3e6d55dc",
   "metadata": {},
   "outputs": [],
   "source": [
    "numeric_cols = ['age', 'bmi', 'children'] \n",
    "scaler = StandardScaler()\n",
    "scaler.fit(medical_df[numeric_cols])"
   ]
  },
  {
   "cell_type": "code",
   "execution_count": 58,
   "id": "ad36ea57",
   "metadata": {},
   "outputs": [],
   "source": [
    "scaled_inputs = scaler.transform(medical_df[numeric_cols])\n",
    "scaled_inputs"
   ]
  },
  {
   "cell_type": "code",
   "execution_count": 59,
   "id": "88590c5b",
   "metadata": {},
   "outputs": [],
   "source": [
    "cat_cols = ['smoker_code', 'sex_code', 'northeast', 'northwest', 'southeast', 'southwest']\n",
    "categorical_data = medical_df[cat_cols].values"
   ]
  },
  {
   "cell_type": "code",
   "execution_count": 60,
   "id": "0cc5a421",
   "metadata": {},
   "outputs": [],
   "source": [
    "weights_df = pd.DataFrame({\n",
    "    'feature': np.append(numeric_cols + cat_cols, 1),\n",
    "    'weight': np.append(model.coef_, model.intercept_)\n",
    "})\n",
    "weights_df.sort_values('weight', ascending=False)"
   ]
  },
  {
   "cell_type": "code",
   "execution_count": 61,
   "id": "4175f286",
   "metadata": {},
   "outputs": [],
   "source": [
    "from sklearn.model_selection import train_test_split"
   ]
  },
  {
   "cell_type": "code",
   "execution_count": 62,
   "id": "b194b155",
   "metadata": {},
   "outputs": [],
   "source": [
    "inputs_train, inputs_test, targets_train, targets_test = train_test_split(inputs, targets, test_size=0.1)"
   ]
  },
  {
   "cell_type": "code",
   "execution_count": 63,
   "id": "af54c577",
   "metadata": {},
   "outputs": [],
   "source": [
    "model = LinearRegression().fit(inputs_train, targets_train)\n",
    "\n",
    "predictions_test = model.predict(inputs_test)\n",
    "\n",
    "loss = rmse(targets_test, predictions_test)\n",
    "print('Test Loss:', loss)"
   ]
  },
  {
   "cell_type": "code",
   "execution_count": 64,
   "id": "b720001e",
   "metadata": {},
   "outputs": [],
   "source": [
    "predictions_train = model.predict(inputs_train)\n",
    "\n",
    "loss = rmse(targets_train, predictions_train)\n",
    "print('Training Loss:', loss)"
   ]
  },
  {
   "cell_type": "code",
   "execution_count": null,
   "id": "76f21f94",
   "metadata": {},
   "outputs": [],
   "source": []
  }
 ],
 "metadata": {
  "kernelspec": {
   "display_name": "Python 3 (ipykernel)",
   "language": "python",
   "name": "python3"
  },
  "language_info": {
   "codemirror_mode": {
    "name": "ipython",
    "version": 3
   },
   "file_extension": ".py",
   "mimetype": "text/x-python",
   "name": "python",
   "nbconvert_exporter": "python",
   "pygments_lexer": "ipython3",
   "version": "3.11.3"
  }
 },
 "nbformat": 4,
 "nbformat_minor": 5
}
